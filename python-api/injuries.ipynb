{
 "cells": [
  {
   "cell_type": "code",
<<<<<<< HEAD
   "execution_count": null,
=======
   "execution_count": 93,
>>>>>>> main
   "metadata": {},
   "outputs": [],
   "source": [
    "from bs4 import BeautifulSoup\n",
    "import requests"
   ]
  },
  {
   "cell_type": "code",
<<<<<<< HEAD
   "execution_count": null,
=======
   "execution_count": 94,
>>>>>>> main
   "metadata": {},
   "outputs": [],
   "source": [
    "# URL = \"https://www.prosportstransactions.com/basketball/Search/SearchResults.php?Player=&Team=Nuggets&BeginDate=2022-01-01&EndDate=2022-04-06&PlayerMovementChkBx=yes&ILChkBx=yes&Submit=Search\"\n",
    "# page = requests.get(URL)"
   ]
  },
  {
   "cell_type": "code",
<<<<<<< HEAD
   "execution_count": null,
=======
   "execution_count": 95,
>>>>>>> main
   "metadata": {},
   "outputs": [],
   "source": [
    "# soup = BeautifulSoup(page.content, \"html.parser\")\n",
    "# table = soup.find(\"table\", class_=\"datatable\")\n",
    "# headers = [header.text[1:] for header in table.find('tr',class_=\"DraftTableLabel\").findAll('td')]\n",
    "# results = [{headers[i]: cell.text for i, cell in enumerate(row.findAll('td'))}\n",
    "#            for row in table.findAll('tr')[1:]]\n",
    "# print(headers)\n",
    "# print(results)"
   ]
  },
  {
   "cell_type": "code",
<<<<<<< HEAD
   "execution_count": null,
=======
   "execution_count": 96,
>>>>>>> main
   "metadata": {},
   "outputs": [],
   "source": [
    "# for i, item in enumerate(results):\n",
    "#     print(item['Acquired'][3:])"
   ]
  },
  {
   "cell_type": "code",
<<<<<<< HEAD
   "execution_count": null,
=======
   "execution_count": 97,
>>>>>>> main
   "metadata": {},
   "outputs": [],
   "source": [
    "from nba_api.stats.static import teams\n",
    "from nba_api.stats.endpoints import commonteamroster\n",
    "from nba_api.stats.endpoints import playergamelogs\n",
    "import time"
   ]
  },
  {
   "cell_type": "code",
<<<<<<< HEAD
   "execution_count": null,
   "metadata": {},
   "outputs": [],
=======
   "execution_count": 98,
   "metadata": {},
   "outputs": [
    {
     "name": "stdout",
     "output_type": "stream",
     "text": [
      "1610612737 951\n",
      "1610612738 909\n",
      "1610612739 889\n",
      "1610612740 948\n",
      "1610612741 881\n",
      "1610612742 953\n",
      "1610612743 948\n",
      "1610612744 964\n",
      "1610612745 867\n",
      "1610612746 882\n",
      "1610612747 828\n",
      "1610612748 881\n",
      "1610612749 925\n",
      "1610612750 979\n",
      "1610612751 900\n",
      "1610612752 840\n",
      "1610612753 840\n",
      "1610612754 838\n",
      "1610612755 883\n",
      "1610612756 904\n",
      "1610612757 846\n",
      "1610612758 834\n",
      "1610612759 920\n",
      "1610612760 852\n",
      "1610612761 889\n",
      "1610612762 920\n",
      "1610612763 971\n",
      "1610612764 875\n",
      "1610612765 847\n",
      "1610612766 849\n",
      "{'Atlanta Hawks': [('Delon Wright', 1626153), ('Jalen Johnson', 1630552), ('Sharife Cooper', 1630536), ('Kevin Huerter', 1628989), ('Skylar Mays', 1630219), ('Kevin Knox II', 1628995), ('Lou Williams', 101150), ('Timothe Luwawu-Cabarrot', 1627789), ('Danilo Gallinari', 201568), ('Gorgui Dieng', 203476), ('Trae Young', 1629027), (\"De'Andre Hunter\", 1629631), ('Bogdan Bogdanovic', 203992), ('Clint Capela', 203991), ('Onyeka Okongwu', 1630168), ('John Collins', 1628381), ('Chaundee Brown Jr.', 1630602)], 'Boston Celtics': [('Matt Ryan', 1630346), ('Jayson Tatum', 1628369), ('Jaylen Brown', 1627759), ('Malik Fitts', 1630238), ('Derrick White', 1628401), ('Payton Pritchard', 1630202), ('Grant Williams', 1629684), ('Nik Stauskas', 203917), ('Juwan Morgan', 1629752), ('Aaron Nesmith', 1630174), ('Daniel Theis', 1628464), ('Sam Hauser', 1630573), ('Marcus Smart', 203935), ('Luke Kornet', 1628436), ('Al Horford', 201143), ('Robert Williams III', 1629057), ('Brodric Thomas', 1630271)], 'Cleveland Cavaliers': [('Kevin Love', 201567), ('Brandon Goodwin', 1629164), ('Rajon Rondo', 200765), ('Collin Sexton', 1629012), ('Caris LeVert', 1627747), ('Evan Mobley', 1630596), ('RJ Nembhard Jr.', 1630612), ('Moses Brown', 1629650), ('Lamar Stevens', 1630205), ('Dylan Windler', 1629685), ('Darius Garland', 1629636), ('Cedi Osman', 1626224), ('Ed Davis', 202334), ('Lauri Markkanen', 1628374), ('Jarrett Allen', 1628386), ('Dean Wade', 1629731), ('Isaac Okoro', 1630171)], 'New Orleans Pelicans': [('Zion Williamson', 1629627), ('Jared Harper', 1629607), ('CJ McCollum', 203468), (\"Devonte' Graham\", 1628984), ('Herbert Jones', 1630529), ('Naji Marshall', 1630230), ('Willy Hernangomez', 1626195), ('Jaxson Hayes', 1629637), ('Gary Clark', 1629109), ('Kira Lewis Jr.', 1630184), ('Brandon Ingram', 1627742), ('Jose Alvarado', 1630631), ('Jonas Valanciunas', 202685), ('Tony Snell', 203503), ('Larry Nance Jr.', 1626204), ('Trey Murphy III', 1630530), ('Garrett Temple', 202066)], 'Chicago Bulls': [('Coby White', 1629632), ('Lonzo Ball', 1628366), ('Tristan Thompson', 202684), ('Derrick Jones Jr.', 1627884), ('Alex Caruso', 1627936), ('Troy Brown Jr.', 1628972), ('Zach LaVine', 203897), ('Nikola Vucevic', 202696), ('DeMar DeRozan', 201942), ('Ayo Dosunmu', 1630245), ('Tony Bradley', 1628396), ('Malcolm Hill', 1630792), ('Marko Simonovic', 1630250), ('Matt Thomas', 1629744), ('Javonte Green', 1629750), ('Tyler Cook', 1629076), ('Patrick Williams', 1630172)], 'Dallas Mavericks': [('Sterling Brown', 1628425), ('Theo Pinson', 1629033), ('Trey Burke', 203504), ('Moses Wright', 1630589), ('Dwight Powell', 203939), ('Josh Green', 1630182), ('Dorian Finney-Smith', 1627827), ('Tim Hardaway Jr.', 203501), ('Jalen Brunson', 1628973), ('Frank Ntilikina', 1628373), ('Reggie Bullock', 203493), ('Spencer Dinwiddie', 203915), ('Marquese Chriss', 1627737), ('Maxi Kleber', 1628467), ('Davis Bertans', 202722), ('Boban Marjanovic', 1626246), ('Luka Doncic', 1629029)], 'Denver Nuggets': [('Markus Howard', 1630210), ('JaMychal Green', 203210), ('Michael Porter Jr.', 1629008), ('Bones Hyland', 1630538), ('DeMarcus Cousins', 202326), ('Will Barton', 203115), ('Bryn Forbes', 1627854), ('Facundo Campazzo', 1630267), ('Davon Reed', 1628432), ('Monte Morris', 1628420), ('Nikola Jokic', 203999), ('Zeke Nnaji', 1630192), ('Austin Rivers', 203085), ('Jamal Murray', 1627750), ('Vlatko Cancar', 1628427), ('Jeff Green', 201145), ('Aaron Gordon', 203932)], 'Golden State Warriors': [('Jonathan Kuminga', 1630228), ('Gary Payton II', 1627780), ('Damion Lee', 1627814), ('Chris Chiozza', 1629185), ('Jordan Poole', 1629673), ('Moses Moody', 1630541), ('Kevon Looney', 1626172), ('Nemanja Bjelica', 202357), ('Andre Iguodala', 2738), ('Klay Thompson', 202691), ('Quinndary Weatherspoon', 1629683), ('Andrew Wiggins', 203952), ('Draymond Green', 203110), ('Stephen Curry', 201939), ('Otto Porter Jr.', 203490), ('James Wiseman', 1630164), ('Juan Toscano-Anderson', 1629308)], 'Houston Rockets': [('Jalen Green', 1630224), ('John Wall', 202322), ('David Nwaba', 1628021), ('Kevin Porter Jr.', 1629645), ('Kenyon Martin Jr.', 1630231), (\"Jae'Sean Tate\", 1630256), ('Josh Christopher', 1630528), ('Eric Gordon', 201569), ('Daishen Nix', 1630227), ('Usman Garuba', 1630586), ('Dennis Schroder', 203471), ('Bruno Fernando', 1628981), ('Trevelin Queen', 1630243), ('Garrison Mathews', 1629726), ('Alperen Sengun', 1630578), ('Anthony Lamb', 1630237), ('Christian Wood', 1626174)], 'Los Angeles Clippers': [('Jay Scrubb', 1630206), ('Reggie Jackson', 202704), ('Kawhi Leonard', 202695), ('Brandon Boston Jr.', 1630527), ('Luke Kennard', 1628379), ('Amir Coffey', 1629599), ('Marcus Morris Sr.', 202694), ('Paul George', 202331), ('Terance Mann', 1629611), ('Xavier Moon', 1629875), ('Jason Preston', 1630554), ('Rodney Hood', 203918), ('Robert Covington', 203496), ('Norman Powell', 1626181), ('Nicolas Batum', 201587), ('Ivica Zubac', 1627826), ('Isaiah Hartenstein', 1628392)], 'Los Angeles Lakers': [('Russell Westbrook', 201566), ('Mac McClung', 1630644), ('Wayne Ellington', 201961), ('Anthony Davis', 203076), ('D.J. Augustin', 201571), ('Talen Horton-Tucker', 1629659), ('LeBron James', 2544), ('Carmelo Anthony', 2546), ('Kent Bazemore', 203145), ('Malik Monk', 1628370), ('Kendrick Nunn', 1629134), ('Stanley Johnson', 1626169), ('Austin Reaves', 1630559), ('Avery Bradley', 202340), ('Wenyen Gabriel', 1629117), ('Dwight Howard', 2730), ('Mason Jones', 1630222)], 'Miami Heat': [('Gabe Vincent', 1629216), ('Victor Oladipo', 203506), ('Kyle Lowry', 200768), ('Markieff Morris', 202693), ('Mychal Mulder', 1628539), ('Bam Adebayo', 1628389), ('Tyler Herro', 1629639), ('Javonte Smart', 1630606), ('Caleb Martin', 1628997), ('P.J. Tucker', 200782), ('Dewayne Dedmon', 203473), ('Jimmy Butler', 202710), ('Haywood Highsmith', 1629312), ('Max Strus', 1629622), ('Udonis Haslem', 2617), ('Duncan Robinson', 1629130), ('Omer Yurtseven', 1630209)], 'Milwaukee Bucks': [('George Hill', 201588), ('Jevon Carter', 1628975), ('Luca Vildoza', 1630492), ('Grayson Allen', 1628960), ('Bobby Portis', 1626171), ('Brook Lopez', 201572), ('Jordan Nwora', 1629670), ('Jrue Holiday', 201950), ('Khris Middleton', 203114), ('Wesley Matthews', 202083), ('Pat Connaughton', 1626192), ('Serge Ibaka', 201586), ('Lindell Wigginton', 1629623), ('Giannis Antetokounmpo', 203507), ('Thanasis Antetokounmpo', 203648), ('Sandro Mamukelashvili', 1630572), ('Rayjon Tucker', 1629730)], 'Minnesota Timberwolves': [(\"D'Angelo Russell\", 1626156), ('Anthony Edwards', 1630162), ('Jaden McDaniels', 1630183), ('Jaylen Nowell', 1629669), ('Malik Beasley', 1627736), ('Jordan McLaughlin', 1629162), ('Jarred Vanderbilt', 1629020), ('Leandro Bolmaro', 1630195), ('Jake Layman', 1627774), ('Naz Reid', 1629675), ('Taurean Prince', 1627752), ('Nathan Knight', 1630233), ('Greg Monroe', 202328), ('Josh Okogie', 1629006), ('Patrick Beverley', 201976), ('McKinley Wright IV', 1630593), ('Karl-Anthony Towns', 1626157)], 'Brooklyn Nets': [('Andre Drummond', 203083), ('Bruce Brown', 1628971), ('Blake Griffin', 201933), ('David Duke Jr.', 1630561), ('Kevin Durant', 201142), ('Patty Mills', 201988), ('Goran Dragic', 201609), ('Ben Simmons', 1627732), ('Kyrie Irving', 202681), ('Joe Harris', 203925), ('Kessler Edwards', 1630556), (\"Day'Ron Sharpe\", 1630549), ('LaMarcus Aldridge', 200746), ('Cam Thomas', 1630560), ('Seth Curry', 203552), ('Nic Claxton', 1629651)], 'New York Knicks': [('Obi Toppin', 1630167), ('Miles McBride', 1630540), ('Nerlens Noel', 203457), ('Derrick Rose', 201565), ('Immanuel Quickley', 1630193), ('Quentin Grimes', 1629656), ('Kemba Walker', 202689), ('RJ Barrett', 1629628), ('Feron Hunt', 1630624), ('Evan Fournier', 203095), ('Alec Burks', 202692), ('Cam Reddish', 1629629), ('Mitchell Robinson', 1629011), ('Julius Randle', 203944), ('Jericho Sims', 1630579), ('Ryan Arcidiacono', 1627853), ('Taj Gibson', 201959)], 'Orlando Magic': [('Devin Cannady', 1629962), ('Jonathan Isaac', 1628371), ('Chuma Okeke', 1629643), ('Jalen Suggs', 1630591), ('Mo Bamba', 1628964), ('Bol Bol', 1629626), ('R.J. Hampton', 1630181), ('Gary Harris', 203914), ('Ignas Brazdeikis', 1629649), ('Markelle Fultz', 1628365), ('Moritz Wagner', 1629021), ('Franz Wagner', 1630532), ('Admiral Schofield', 1629678), ('Terrence Ross', 203082), ('Robin Lopez', 201577), ('Wendell Carter Jr.', 1628976), ('Cole Anthony', 1630175)], 'Indiana Pacers': [('Gabe York', 1628221), ('Tyrese Haliburton', 1630169), ('T.J. Warren', 203933), ('Chris Duarte', 1630537), ('Duane Washington Jr.', 1630613), ('Lance Stephenson', 202362), ('Malcolm Brogdon', 1627763), ('T.J. McConnell', 204456), ('Oshae Brissett', 1629052), ('Nate Hinton', 1630207), ('Isaiah Jackson', 1630543), ('Buddy Hield', 1627741), ('Jalen Smith', 1630188), ('Terry Taylor', 1630678), ('Myles Turner', 1626167), ('Goga Bitadze', 1629048), ('Ricky Rubio', 201937)], 'Philadelphia 76ers': [('Tyrese Maxey', 1630178), ('James Harden', 201935), ('Myles Powell', 1629619), ('Isaiah Joe', 1630198), ('Paul Millsap', 200794), ('DeAndre Jordan', 201599), ('Jaden Springer', 1630531), ('Tobias Harris', 202699), ('Danny Green', 201980), ('Charlie Brown Jr.', 1629718), ('Shake Milton', 1629003), ('Georges Niang', 1627777), ('Joel Embiid', 203954), ('Matisse Thybulle', 1629680), ('Charles Bassey', 1629646), ('Furkan Korkmaz', 1627788), ('Paul Reed', 1630194)], 'Phoenix Suns': [('JaVale McGee', 201580), ('Torrey Craig', 1628470), ('Devin Booker', 1626164), ('Elfrid Payton', 203901), ('Chris Paul', 101108), ('Aaron Holiday', 1628988), ('Ish Wainright', 1630688), ('Landry Shamet', 1629013), ('Cameron Payne', 1626166), ('Bismack Biyombo', 202687), ('Gabriel Lundberg', 1630994), ('Dario Saric', 203967), ('Deandre Ayton', 1629028), ('Cameron Johnson', 1629661), ('Mikal Bridges', 1628969), ('Jae Crowder', 203109)], 'Portland Trail Blazers': [('Damian Lillard', 203081), ('Joe Ingles', 204060), ('Anfernee Simons', 1629014), ('Trendon Watford', 1630570), ('Greg Brown III', 1630535), ('Eric Bledsoe', 202339), ('Keon Johnson', 1630553), ('Brandon Williams', 1630314), ('Nassir Little', 1629642), ('Josh Hart', 1628404), ('CJ Elleby', 1629604), ('Elijah Hughes', 1630190), ('Keljin Blevins', 1629833), ('Ben McLemore', 203463), ('Justise Winslow', 1626159), ('Jusuf Nurkic', 203994), ('Didi Louzada', 1629712)], 'Sacramento Kings': [('Donte DiVincenzo', 1628978), ('Terence Davis', 1629056), (\"De'Aaron Fox\", 1628368), ('Chimezie Metu', 1629002), ('Maurice Harkless', 203090), ('Justin Holiday', 203200), ('Domantas Sabonis', 1627734), ('Davion Mitchell', 1630558), ('Richaun Holmes', 1626158), ('Alex Len', 203458), ('Jeremy Lamb', 203087), ('Damian Jones', 1627745), ('Harrison Barnes', 203084), ('Trey Lyles', 1626168), ('Josh Jackson', 1628367), ('Neemias Queta', 1629674)], 'San Antonio Spurs': [('Lonnie Walker IV', 1629022), ('Keldon Johnson', 1629640), ('Dejounte Murray', 1627749), ('Josh Richardson', 1626196), ('Joshua Primo', 1630563), ('Joe Wieskamp', 1630580), ('Doug McDermott', 203926), ('Devontae Cacok', 1629719), ('DJ Stewart', 1630597), ('Zach Collins', 1628380), ('Devin Vassell', 1630170), ('Jakob Poeltl', 1627751), ('Robert Woodard II', 1630218), ('Keita Bates-Diop', 1628966), ('Tre Jones', 1630200), ('Jock Landale', 1629111), ('Romeo Langford', 1629641)], 'Oklahoma City Thunder': [('Shai Gilgeous-Alexander', 1628983), ('Josh Giddey', 1630581), ('Luguentz Dort', 1629652), ('Melvin Frazier Jr.', 1628982), ('Darius Bazley', 1629647), ('Theo Maledon', 1630177), ('Lindy Waters III', 1630322), ('Derrick Favors', 202324), ('Ty Jerome', 1629660), ('Aleksej Pokusevski', 1630197), ('Aaron Wiggins', 1630598), ('Isaiah Roby', 1629676), ('Tre Mann', 1630544), ('Vit Krejci', 1630249), ('Mike Muscala', 203488), ('Kenrich Williams', 1629026), ('Jeremiah Robinson-Earl', 1630526)], 'Toronto Raptors': [('Armoni Brooks', 1629717), ('OG Anunoby', 1628384), ('Scottie Barnes', 1630567), ('Precious Achiuwa', 1630173), ('Justin Champagnie', 1630551), ('David Johnson', 1630525), ('Svi Mykhailiuk', 1629004), ('Isaac Bonga', 1629067), ('Yuta Watanabe', 1629139), ('Thaddeus Young', 201152), ('Malachi Flynn', 1630201), ('Fred VanVleet', 1627832), ('Khem Birch', 203920), ('Chris Boucher', 1628449), ('Gary Trent Jr.', 1629018), ('Pascal Siakam', 1627783), ('Dalano Banton', 1630625)], 'Utah Jazz': [('Jordan Clarkson', 203903), ('Eric Paschall', 1629672), ('Trent Forrest', 1630235), ('Nickeil Alexander-Walker', 1629638), ('Rudy Gay', 200752), ('Mike Conley', 201144), ('Jared Butler', 1630215), ('Xavier Sneed', 1630270), ('Udoka Azubuike', 1628962), ('Hassan Whiteside', 202355), (\"Royce O'Neale\", 1626220), ('Danuel House Jr.', 1627863), ('Rudy Gobert', 203497), ('Juancho Hernangomez', 1627823), ('Bojan Bogdanovic', 202711), ('Donovan Mitchell', 1628378)], 'Memphis Grizzlies': [(\"De'Anthony Melton\", 1629001), ('Kyle Anderson', 203937), ('Xavier Tillman', 1630214), ('Tyrell Terry', 1630179), ('Steven Adams', 203500), ('Yves Pons', 1630582), ('Santi Aldama', 1630583), ('Ziaire Williams', 1630533), ('Ja Morant', 1629630), ('Jaren Jackson Jr.', 1628991), ('Brandon Clarke', 1629634), ('Tyus Jones', 1626145), ('Desmond Bane', 1630217), ('Jarrett Culver', 1629633), ('Dillon Brooks', 1628415), ('Killian Tillie', 1629681), ('John Konchar', 1629723)], 'Washington Wizards': [('Kentavious Caldwell-Pope', 203484), ('Bradley Beal', 203078), ('Ish Smith', 202397), ('Cassius Winston', 1630216), ('Kristaps Porzingis', 204001), ('Rui Hachimura', 1629060), ('Deni Avdija', 1630166), ('Thomas Bryant', 1628418), ('Isaiah Todd', 1630225), ('Anthony Gill', 1630264), ('Raul Neto', 203526), ('Jordan Schakel', 1630648), ('Daniel Gafford', 1629655), ('Vernon Carey Jr.', 1630176), ('Corey Kispert', 1630557), ('Tomas Satoransky', 203107), ('Kyle Kuzma', 1628398)], 'Detroit Pistons': [('Cade Cunningham', 1630595), ('Carsen Edwards', 1629035), ('Frank Jackson', 1628402), ('Hamidou Diallo', 1628977), ('Killian Hayes', 1630165), ('Jerami Grant', 203924), ('Isaiah Livers', 1630587), ('Kelly Olynyk', 203482), ('Rodney McGruder', 203585), ('Braxton Key', 1630296), ('Cory Joseph', 202709), ('Jamorko Pickett', 1630691), ('Isaiah Stewart', 1630191), ('Marvin Bagley III', 1628963), ('Saben Lee', 1630240), ('Saddiq Bey', 1630180), ('Luka Garza', 1630568)], 'Charlotte Hornets': [('Miles Bridges', 1628970), ('LaMelo Ball', 1630163), ('Terry Rozier', 1626179), ('Isaiah Thomas', 202738), ('James Bouknight', 1630547), ('Jalen McDaniels', 1629667), ('Montrezl Harrell', 1626149), ('Cody Martin', 1628998), ('Kelly Oubre Jr.', 1626162), ('Nick Richards', 1630208), ('Scottie Lewis', 1630575), ('Gordon Hayward', 202330), ('JT Thor', 1630550), ('Kai Jones', 1630539), ('Mason Plumlee', 203486), ('P.J. Washington', 1629023), ('Arnoldas Kulboka', 1629083)]}\n"
     ]
    }
   ],
>>>>>>> main
   "source": [
    "sleeptime = .7\n",
    "headers = ['TeamID', 'SEASON', 'LeagueID', 'PLAYER', 'NICKNAME', 'PLAYER_SLUG', 'NUM', 'POSITION', 'HEIGHT', 'WEIGHT', 'BIRTH_DATE', 'AGE', 'EXP', 'SCHOOL', 'PLAYER_ID']\n",
    "rosters = {}\n",
    "player_logs= {}\n",
    "for team in teams.get_teams():\n",
    "    regular_season = playergamelogs.PlayerGameLogs(season_nullable=\"2021-22\", team_id_nullable=team[\"id\"], season_type_nullable=\"Regular Season\")\n",
    "    time.sleep(sleeptime)\n",
    "    playins = playergamelogs.PlayerGameLogs(season_nullable=\"2021-22\", team_id_nullable=team[\"id\"], season_type_nullable=\"PlayIn\")\n",
    "    time.sleep(sleeptime)\n",
    "    playoffs = playergamelogs.PlayerGameLogs(season_nullable=\"2021-22\", team_id_nullable=team[\"id\"], season_type_nullable=\"Playoffs\")\n",
    "    time.sleep(sleeptime)\n",
    "    team_player_logs = regular_season.get_dict()[\"resultSets\"][0]['rowSet'] + playins.get_dict()[\"resultSets\"][0]['rowSet'] + playoffs.get_dict()[\"resultSets\"][0]['rowSet']\n",
    "    print(team[\"id\"], len(team_player_logs))\n",
    "    player_logs[team['city'] + \" \" + team['nickname']] = [(player[2], player[8][:10], player[6]) for player in team_player_logs]\n",
    "    roster = [(player[3],player[14]) for player in commonteamroster.CommonTeamRoster(team[\"id\"], season=\"2021-22\").common_team_roster.get_dict()['data']]\n",
    "    time.sleep(sleeptime)\n",
    "    rosters[team['city'] + \" \" + team['nickname']]= roster\n",
    "print(rosters)"
   ]
  },
  {
   "cell_type": "code",
<<<<<<< HEAD
   "execution_count": null,
=======
   "execution_count": 99,
>>>>>>> main
   "metadata": {},
   "outputs": [],
   "source": [
    "rosters[\"LA Clippers\"] = rosters[\"Los Angeles Clippers\"]\n",
    "player_logs[\"LA Clippers\"] = player_logs[\"Los Angeles Clippers\"]"
   ]
  },
  {
   "cell_type": "code",
<<<<<<< HEAD
   "execution_count": null,
=======
   "execution_count": 100,
>>>>>>> main
   "metadata": {},
   "outputs": [],
   "source": [
    "URL_ESPN = \"https://www.espn.com/nba/injuries\"\n",
    "espn = requests.get(URL_ESPN)"
   ]
  },
  {
   "cell_type": "code",
<<<<<<< HEAD
   "execution_count": null,
=======
   "execution_count": 101,
>>>>>>> main
   "metadata": {},
   "outputs": [],
   "source": [
    "soup = BeautifulSoup(espn.content, \"html.parser\")\n",
    "tables = [table for table in soup.find_all(\"div\", {\"class\": \"Table__league-injuries\"})]\n",
    "teams_injured = [{\"team\":table.find(\"span\", {\"class\":\"injuries__teamName\"}).text} for table in tables]\n",
    "\n",
    "for i, table  in enumerate(tables):\n",
    "    team = teams_injured[i]\n",
    "    teams_injured[i][\"injury_list\"] = [{\"name\":item.find(\"a\").text, \"date\":item.find(\"td\",{\"class\":\"col-date\"}).text, \"status\":item.find(\"td\",{\"class\":\"col-stat\"}).text} for item in table.find_all(\"tr\", {\"data-idx\":True})]"
   ]
  },
  {
   "cell_type": "code",
<<<<<<< HEAD
   "execution_count": null,
   "metadata": {},
   "outputs": [],
=======
   "execution_count": 102,
   "metadata": {},
   "outputs": [
    {
     "name": "stdout",
     "output_type": "stream",
     "text": [
      "2022-04-25\n"
     ]
    }
   ],
>>>>>>> main
   "source": [
    "from datetime import datetime\n",
    "return_date = datetime.now().strftime(\"%Y-%m-%d\")\n",
    "print(return_date)"
   ]
  },
  {
   "cell_type": "code",
<<<<<<< HEAD
   "execution_count": null,
=======
   "execution_count": 103,
>>>>>>> main
   "metadata": {},
   "outputs": [],
   "source": [
    "url = \"\"\n",
    "with open(\"../app.env\") as file:\n",
    "    db_source = file.read()\n",
    "    url = db_source.split(\"DB_SOURCE=\\\"\")[1][:-1]"
   ]
  },
  {
   "cell_type": "code",
<<<<<<< HEAD
   "execution_count": null,
=======
   "execution_count": 104,
>>>>>>> main
   "metadata": {},
   "outputs": [],
   "source": [
    "from pymongo import MongoClient\n",
    "from nba_api.stats.static import players\n",
    "from nba_api.stats.endpoints import commonplayerinfo\n",
    "import time\n",
    "client = MongoClient(url)\n",
    "db = client.nba"
   ]
  },
  {
   "cell_type": "code",
<<<<<<< HEAD
   "execution_count": null,
   "metadata": {},
   "outputs": [],
=======
   "execution_count": 105,
   "metadata": {},
   "outputs": [
    {
     "name": "stdout",
     "output_type": "stream",
     "text": [
      "Atlanta Hawks 2022-04-24\n",
      "('Sharife Cooper', 1630536)  Returning from injury since 2022-04-10\n",
      "('Lou Williams', 101150)  Injured since  2022-04-05\n",
      "('Chaundee Brown Jr.', 1630602)  Returning from injury since 2021-12-31\n",
      "-----\n",
      "Brooklyn Nets 2022-04-23\n",
      "('David Duke Jr.', 1630561)  Returning from injury since 2022-04-08\n",
      "('Ben Simmons', 1627732)  Injured since  \n",
      "('Joe Harris', 203925)  Injured since  2021-11-14\n",
      "('Kessler Edwards', 1630556)  Returning from injury since 2022-04-20\n",
      "(\"Day'Ron Sharpe\", 1630549)  Returning from injury since 2022-04-20\n",
      "('LaMarcus Aldridge', 200746)  Returning from injury since 2022-04-06\n",
      "('Cam Thomas', 1630560)  Returning from injury since 2022-04-20\n",
      "-----\n",
      "Charlotte Hornets 2022-04-13\n",
      "('James Bouknight', 1630547)  Returning from injury since 2022-04-10\n",
      "('Nick Richards', 1630208)  Returning from injury since 2022-04-07\n",
      "('Scottie Lewis', 1630575)  Returning from injury since 2021-12-15\n",
      "('Gordon Hayward', 202330)  Injured since  2022-04-02\n",
      "('JT Thor', 1630550)  Returning from injury since 2022-04-10\n",
      "('Kai Jones', 1630539)  Returning from injury since 2022-04-10\n",
      "('Arnoldas Kulboka', 1629083)  Returning from injury since 2022-04-10\n",
      "-----\n",
      "Chicago Bulls 2022-04-24\n",
      "('Lonzo Ball', 1628366)  Injured since  2022-01-14\n",
      "('Alex Caruso', 1627936)  Start Injury  Today {'name': 'Alex Caruso', 'date': 'Apr 24', 'status': 'Day-To-Day'}\n",
      "{'start_date': '2022-04-24', 'return_date': '', 'playername': 'Alex Caruso', 'playerID': 1627936, 'status': 'Day-To-Day', 'lastModifiedDate': '2022-04-25'}\n",
      "('Tony Bradley', 1628396)  Returning from injury since 2022-04-22\n",
      "('Malcolm Hill', 1630792)  Returning from injury since 2022-04-10\n",
      "('Marko Simonovic', 1630250)  Returning from injury since 2022-01-17\n",
      "('Matt Thomas', 1629744)  Injured since  2022-03-21\n",
      "('Tyler Cook', 1629076)  Returning from injury since 2022-04-10\n",
      "-----\n",
      "Cleveland Cavaliers 2022-04-15\n",
      "('Brandon Goodwin', 1629164)  Returning from injury since 2022-04-10\n",
      "('Collin Sexton', 1629012)  Injured since  2021-11-07\n",
      "('RJ Nembhard Jr.', 1630612)  Returning from injury since 2022-04-10\n",
      "('Moses Brown', 1629650)  Returning from injury since 2022-04-10\n",
      "('Lamar Stevens', 1630205)  Returning from injury since 2022-04-12\n",
      "('Dylan Windler', 1629685)  Returning from injury since 2022-04-10\n",
      "('Cedi Osman', 1626224)  Returning from injury since 2022-04-12\n",
      "('Ed Davis', 202334)  Returning from injury since 2022-04-08\n",
      "('Dean Wade', 1629731)  Injured since  2022-03-12\n",
      "-----\n",
      "Dallas Mavericks 2022-04-23\n",
      "('Sterling Brown', 1628425)  Returning from injury since 2022-04-21\n",
      "('Theo Pinson', 1629033)  Returning from injury since 2022-04-10\n",
      "('Trey Burke', 203504)  Returning from injury since 2022-04-21\n",
      "('Moses Wright', 1630589)  Returning from injury since 2022-04-10\n",
      "('Tim Hardaway Jr.', 203501)  Injured since  2022-01-25\n",
      "('Frank Ntilikina', 1628373)  Injured since  2022-04-08\n",
      "('Marquese Chriss', 1627737)  Returning from injury since 2022-04-10\n",
      "('Boban Marjanovic', 1626246)  Returning from injury since 2022-04-10\n",
      "-----\n",
      "Denver Nuggets 2022-04-24\n",
      "('Markus Howard', 1630210)  Returning from injury since 2022-04-10\n",
      "('Michael Porter Jr.', 1629008)  Injured since  2021-11-06\n",
      "('Davon Reed', 1628432)  Returning from injury since 2022-04-10\n",
      "('Zeke Nnaji', 1630192)  Returning from injury since 2022-04-18\n",
      "('Jamal Murray', 1627750)  Injured since  \n",
      "('Vlatko Cancar', 1628427)  Returning from injury since 2022-04-18\n",
      "-----\n",
      "Detroit Pistons 2022-04-10\n",
      "('Cade Cunningham', 1630595)  Returning from injury since 2022-04-08\n",
      "('Hamidou Diallo', 1628977)  Injured since  2022-03-09\n",
      "('Jerami Grant', 203924)  Injured since  2022-03-25\n",
      "('Kelly Olynyk', 203482)  Returning from injury since 2022-04-08\n",
      "('Cory Joseph', 202709)  Injured since  2022-03-31\n",
      "('Marvin Bagley III', 1628963)  Injured since  2022-03-31\n",
      "-----\n",
      "Golden State Warriors 2022-04-24\n",
      "('Damion Lee', 1627814)  Returning from injury since 2022-04-18\n",
      "('Chris Chiozza', 1629185)  Returning from injury since 2022-03-28\n",
      "('Moses Moody', 1630541)  Returning from injury since 2022-04-18\n",
      "('Quinndary Weatherspoon', 1629683)  Returning from injury since 2022-04-10\n",
      "('James Wiseman', 1630164)  Injured since  \n",
      "('Juan Toscano-Anderson', 1629308)  Returning from injury since 2022-04-18\n",
      "-----\n",
      "Indiana Pacers 2022-04-10\n",
      "('T.J. Warren', 203933)  Injured since  \n",
      "('Chris Duarte', 1630537)  Injured since  2022-03-15\n",
      "('Malcolm Brogdon', 1627763)  Returning from injury since 2022-03-18\n",
      "('Nate Hinton', 1630207)  Returning from injury since 2022-01-05\n",
      "('Jalen Smith', 1630188)  Injured since  2022-04-05\n",
      "('Myles Turner', 1626167)  Returning from injury since 2022-01-14\n",
      "('Goga Bitadze', 1629048)  Injured since  2022-04-03\n",
      "('Ricky Rubio', 201937)  Injured since  \n",
      "-----\n",
      "LA Clippers 2022-04-15\n",
      "('Jay Scrubb', 1630206)  Injured since  2022-01-30\n",
      "('Kawhi Leonard', 202695)  Injured since  \n",
      "('Brandon Boston Jr.', 1630527)  Returning from injury since 2022-04-10\n",
      "('Luke Kennard', 1628379)  Returning from injury since 2022-04-10\n",
      "('Paul George', 202331)  Returning from injury since 2022-04-12\n",
      "('Xavier Moon', 1629875)  Returning from injury since 2022-04-10\n",
      "('Jason Preston', 1630554)  Injured since  \n",
      "('Rodney Hood', 203918)  Returning from injury since 2022-04-10\n",
      "-----\n",
      "Los Angeles Lakers 2022-04-10\n",
      "('Russell Westbrook', 201566)  Returning from injury since 2022-04-05\n",
      "('Anthony Davis', 203076)  Returning from injury since 2022-04-05\n",
      "('Talen Horton-Tucker', 1629659)  Start Injury  Today {'name': 'Talen Horton-Tucker', 'date': 'Apr 11', 'status': 'Day-To-Day'}\n",
      "{'start_date': '2022-04-10', 'return_date': '', 'playername': 'Talen Horton-Tucker', 'playerID': 1629659, 'status': 'Day-To-Day', 'lastModifiedDate': '2022-04-25'}\n",
      "('LeBron James', 2544)  Injured since  2022-04-01\n",
      "('Carmelo Anthony', 2546)  Returning from injury since 2022-04-05\n",
      "('Kent Bazemore', 203145)  Returning from injury since 2022-04-07\n",
      "('Kendrick Nunn', 1629134)  Injured since  \n",
      "('Avery Bradley', 202340)  Returning from injury since 2022-04-05\n",
      "('Dwight Howard', 2730)  Returning from injury since 2022-04-08\n",
      "-----\n",
      "Memphis Grizzlies 2022-04-23\n",
      "('Tyrell Terry', 1630179)  Returning from injury since 2021-12-31\n",
      "('Yves Pons', 1630582)  Returning from injury since 2022-04-10\n",
      "('Santi Aldama', 1630583)  Injured since  2022-04-10\n",
      "('Ziaire Williams', 1630533)  Start Injury  Today {'name': 'Ziaire Williams', 'date': 'Apr 23', 'status': 'Day-To-Day'}\n",
      "{'start_date': '2022-04-23', 'return_date': '', 'playername': 'Ziaire Williams', 'playerID': 1630533, 'status': 'Day-To-Day', 'lastModifiedDate': '2022-04-25'}\n",
      "('Jarrett Culver', 1629633)  Returning from injury since 2022-04-19\n",
      "('Killian Tillie', 1629681)  Injured since  2022-03-15\n",
      "-----\n",
      "Miami Heat 2022-04-24\n",
      "('Kyle Lowry', 200768)  Injured since  2022-04-22\n",
      "('Markieff Morris', 202693)  Returning from injury since 2022-04-03\n",
      "('Mychal Mulder', 1628539)  Returning from injury since 2022-04-10\n",
      "('Javonte Smart', 1630606)  Returning from injury since 2022-04-10\n",
      "('Udonis Haslem', 2617)  Returning from injury since 2022-04-10\n",
      "-----\n",
      "Milwaukee Bucks 2022-04-24\n",
      "('George Hill', 201588)  Injured since  2022-04-08\n",
      "('Luca Vildoza', 1630492)  Injured since  2022-04-22\n",
      "('Khris Middleton', 203114)  Injured since  2022-04-20\n",
      "('Lindell Wigginton', 1629623)  Returning from injury since 2022-04-10\n",
      "('Sandro Mamukelashvili', 1630572)  Returning from injury since 2022-04-10\n",
      "-----\n",
      "New Orleans Pelicans 2022-04-24\n",
      "('Zion Williamson', 1629627)  Injured since  \n",
      "('Jared Harper', 1629607)  Returning from injury since 2022-04-10\n",
      "('Gary Clark', 1629109)  Returning from injury since 2022-04-10\n",
      "('Kira Lewis Jr.', 1630184)  Injured since  2021-12-08\n",
      "('Tony Snell', 203503)  Returning from injury since 2022-04-15\n",
      "-----\n",
      "New York Knicks 2022-04-10\n",
      "('Miles McBride', 1630540)  Returning from injury since 2022-04-08\n",
      "('Nerlens Noel', 203457)  Injured since  2022-02-07\n",
      "('Derrick Rose', 201565)  Injured since  2021-12-16\n",
      "('Quentin Grimes', 1629656)  Returning from injury since 2022-04-03\n",
      "('Kemba Walker', 202689)  Returning from injury since 2022-02-16\n",
      "('RJ Barrett', 1629628)  Returning from injury since 2022-04-08\n",
      "('Cam Reddish', 1629629)  Injured since  2022-03-07\n",
      "('Mitchell Robinson', 1629011)  Injured since  2022-04-03\n",
      "('Julius Randle', 203944)  Injured since  2022-03-30\n",
      "-----\n",
      "Oklahoma City Thunder 2022-04-10\n",
      "('Shai Gilgeous-Alexander', 1628983)  Injured since  2022-03-21\n",
      "('Josh Giddey', 1630581)  Injured since  2022-02-24\n",
      "('Luguentz Dort', 1629652)  Injured since  2022-02-12\n",
      "('Darius Bazley', 1629647)  Injured since  2022-03-26\n",
      "('Theo Maledon', 1630177)  Returning from injury since 2022-04-03\n",
      "('Lindy Waters III', 1630322)  Returning from injury since 2022-04-06\n",
      "('Derrick Favors', 202324)  Injured since  2022-02-24\n",
      "('Ty Jerome', 1629660)  Injured since  2022-02-14\n",
      "('Aleksej Pokusevski', 1630197)  Returning from injury since 2022-04-03\n",
      "('Aaron Wiggins', 1630598)  Returning from injury since 2022-04-03\n",
      "('Tre Mann', 1630544)  Injured since  2022-03-26\n",
      "('Vit Krejci', 1630249)  Start Injury  Today {'name': 'Vit Krejci', 'date': 'Apr 18', 'status': 'Day-To-Day'}\n",
      "{'start_date': '2022-04-10', 'return_date': '', 'playername': 'Vit Krejci', 'playerID': 1630249, 'status': 'Day-To-Day', 'lastModifiedDate': '2022-04-25'}\n",
      "('Mike Muscala', 203488)  Injured since  2022-02-04\n",
      "('Kenrich Williams', 1629026)  Injured since  2022-02-14\n",
      "('Jeremiah Robinson-Earl', 1630526)  Returning from injury since 2022-04-06\n",
      "-----\n",
      "Orlando Magic 2022-04-10\n",
      "('Jonathan Isaac', 1628371)  Injured since  \n",
      "('Jalen Suggs', 1630591)  Injured since  2022-04-07\n",
      "('Bol Bol', 1629626)  Injured since  \n",
      "('Gary Harris', 203914)  Returning from injury since 2022-03-22\n",
      "('Franz Wagner', 1630532)  Injured since  2022-04-05\n",
      "('Terrence Ross', 203082)  Returning from injury since 2022-04-03\n",
      "('Wendell Carter Jr.', 1628976)  Injured since  2022-03-28\n",
      "('Cole Anthony', 1630175)  Injured since  2022-04-03\n",
      "-----\n",
      "Philadelphia 76ers 2022-04-23\n",
      "('Myles Powell', 1629619)  Returning from injury since 2022-02-02\n",
      "('Paul Millsap', 200794)  Returning from injury since 2022-03-29\n",
      "('DeAndre Jordan', 201599)  Returning from injury since 2022-04-20\n",
      "('Charlie Brown Jr.', 1629718)  Returning from injury since 2022-03-31\n",
      "('Matisse Thybulle', 1629680)  Returning from injury since 2022-04-18\n",
      "('Charles Bassey', 1629646)  Injured since  2022-02-15\n",
      "-----\n",
      "Phoenix Suns 2022-04-24\n",
      "('Devin Booker', 1626164)  Injured since  2022-04-19\n",
      "('Gabriel Lundberg', 1630994)  Returning from injury since 2022-04-10\n",
      "('Dario Saric', 203967)  Injured since  \n",
      "-----\n",
      "Portland Trail Blazers 2022-04-10\n",
      "('Damian Lillard', 203081)  Injured since  2021-12-31\n",
      "('Joe Ingles', 204060)  Injured since  \n",
      "('Anfernee Simons', 1629014)  Injured since  2022-03-05\n",
      "('Trendon Watford', 1630570)  Injured since  2022-03-26\n",
      "('Eric Bledsoe', 202339)  Injured since  \n",
      "('Nassir Little', 1629642)  Injured since  2022-01-25\n",
      "('Josh Hart', 1628404)  Injured since  2022-03-20\n",
      "('Justise Winslow', 1626159)  Injured since  2022-03-23\n",
      "('Jusuf Nurkic', 203994)  Injured since  2022-02-16\n",
      "-----\n",
      "Sacramento Kings 2022-04-10\n",
      "('Terence Davis', 1629056)  Injured since  2022-01-25\n",
      "(\"De'Aaron Fox\", 1628368)  Injured since  2022-03-16\n",
      "('Maurice Harkless', 203090)  Returning from injury since 2022-03-18\n",
      "('Domantas Sabonis', 1627734)  Injured since  2022-03-20\n",
      "('Richaun Holmes', 1626158)  Returning from injury since 2022-03-16\n",
      "('Alex Len', 203458)  Injured since  2022-04-01\n",
      "-----\n",
      "San Antonio Spurs 2022-04-13\n",
      "('Joe Wieskamp', 1630580)  Returning from injury since 2022-04-10\n",
      "('Doug McDermott', 203926)  Injured since  2022-03-12\n",
      "('Devontae Cacok', 1629719)  Returning from injury since 2022-04-10\n",
      "('DJ Stewart', 1630597)  Returning from injury since \n",
      "('Robert Woodard II', 1630218)  Returning from injury since \n",
      "('Jock Landale', 1629111)  Returning from injury since 2022-04-10\n",
      "('Romeo Langford', 1629641)  Returning from injury since 2022-04-09\n",
      "-----\n",
      "Toronto Raptors 2022-04-23\n",
      "('Justin Champagnie', 1630551)  Returning from injury since 2022-04-08\n",
      "('David Johnson', 1630525)  Returning from injury since 2021-12-05\n",
      "('Isaac Bonga', 1629067)  Returning from injury since 2022-04-16\n",
      "('Fred VanVleet', 1627832)  Start Injury  Today {'name': 'Fred VanVleet', 'date': 'Apr 25', 'status': 'Out'}\n",
      "{'start_date': '2022-04-23', 'return_date': '', 'playername': 'Fred VanVleet', 'playerID': 1627832, 'status': 'Out', 'lastModifiedDate': '2022-04-25'}\n",
      "-----\n",
      "Utah Jazz 2022-04-23\n",
      "('Trent Forrest', 1630235)  Injured since  2022-04-06\n",
      "('Nickeil Alexander-Walker', 1629638)  Returning from injury since 2022-04-10\n",
      "('Rudy Gay', 200752)  Returning from injury since 2022-04-10\n",
      "('Jared Butler', 1630215)  Returning from injury since 2022-04-10\n",
      "('Xavier Sneed', 1630270)  Returning from injury since 2022-04-10\n",
      "('Udoka Azubuike', 1628962)  Injured since  2022-03-09\n",
      "-----\n",
      "Washington Wizards 2022-04-10\n",
      "('Kentavious Caldwell-Pope', 203484)  Returning from injury since 2022-04-06\n",
      "('Bradley Beal', 203078)  Injured since  2022-01-29\n",
      "('Kristaps Porzingis', 204001)  Injured since  2022-04-06\n",
      "('Thomas Bryant', 1628418)  Returning from injury since 2022-04-08\n",
      "('Kyle Kuzma', 1628398)  Injured since  2022-03-18\n",
      "-----\n"
     ]
    }
   ],
>>>>>>> main
   "source": [
    "\n",
    "# for each team on the injury report\n",
    "for team in teams_injured:\n",
    "    # get the team's game logs\n",
    "    team_logs = [log for log in player_logs[team[\"team\"]] if log[2] == team[\"team\"]]\n",
    "    # and sort them by recent date\n",
    "    team_logs.sort(key=lambda date: datetime.strptime(date[1], \"%Y-%m-%d\"), reverse=True)\n",
    "    # get the last game the team played\n",
    "    last_team_game_played = team_logs[0][1]\n",
    "    print(team[\"team\"], last_team_game_played)\n",
    "    # for each player currently on the team's roster\n",
    "    for player in rosters[team[\"team\"]]:\n",
    "        # get the list of games the player played for this team\n",
    "        played_with_team = [log[1] for log in team_logs if log[0] == player[0]]\n",
    "        # and sort it by recent date\n",
    "        played_with_team.sort(key=lambda date: datetime.strptime(date, \"%Y-%m-%d\"), reverse=True)\n",
    "        # if the player has played a game for this team\n",
    "        if len(played_with_team) > 0:\n",
    "            # then get the last game (date) played by the player\n",
    "            last_game_played_with_team = played_with_team[0]\n",
    "        else:\n",
    "            last_game_played_with_team = \"\"\n",
    "\n",
    "        # if the player name is found on the injury report\n",
    "        if player[0] in [player[\"name\"] for player in team[\"injury_list\"]]:\n",
    "            # if they played in the last game\n",
    "            if last_game_played_with_team == last_team_game_played:\n",
    "                # then the injury must be new\n",
    "                # push new injury event object with start date as today (note: handle OUT vs day-to-day)\n",
    "                p=[p for p in team[\"injury_list\"] if player[0] == p[\"name\"]][0]\n",
    "                print(player, \" Start Injury \", \"Today\", p)\n",
    "                injury_data = {\n",
    "                    \"start_date\":last_game_played_with_team,\n",
    "                    \"return_date\":\"\",\n",
    "                    \"playername\":player[0],\n",
    "                    \"playerID\":player[1],\n",
    "                    \"status\":p[\"status\"],\n",
    "                    \"lastModifiedDate\":return_date\n",
    "                }\n",
    "                print(injury_data)\n",
<<<<<<< HEAD
    "                db.injuries.replace_one({\"playerID\":player[1],\"return_date\":\"\"}, injury_data, upsert=True)\n",
=======
    "                db.injuries.insert_one(injury_data)\n",
>>>>>>> main
    "            else:\n",
    "                #continued injury, (update games missed on object?) -- do nothing for now\n",
    "                p=[p for p in team[\"injury_list\"] if player[0] == p[\"name\"]][0]\n",
    "                print(player, \" Injured since \", last_game_played_with_team)\n",
    "                db.injuries.update_one({\"playerID\":player[1],\"return_date\":\"\"}, {\"$set\":{\"status\":p[\"status\"], \"start_date\":last_game_played_with_team, \"lastModifiedDate\":return_date}}, upsert=True)\n",
    "        # healthy\n",
    "        else:\n",
    "            # determine if a player has returned from injury\n",
    "            if last_game_played_with_team != last_team_game_played:\n",
    "                #update injury event object with end date\n",
    "                print(player, \" Returning from injury since\", last_game_played_with_team)\n",
    "                # TODO: Right now only updating the return date of injured players that have previously been added to the database through the injury report scraper\n",
    "                # TODO: Need to get a history of injuries from another source\n",
    "                db.injuries.update_one({\"playerID\":player[1],\"return_date\":\"\"}, {\"$set\":{\"return_date\":return_date, \"start_date\":last_game_played_with_team, \"lastModifiedDate\":return_date}}, upsert=False)\n",
    "            \n",
    "    print(\"-----\")"
   ]
  },
  {
   "cell_type": "code",
   "execution_count": null,
   "metadata": {},
   "outputs": [],
   "source": []
  }
 ],
 "metadata": {
  "interpreter": {
   "hash": "b0fa6594d8f4cbf19f97940f81e996739fb7646882a419484c72d19e05852a7e"
  },
  "kernelspec": {
   "display_name": "Python 3.9.9 64-bit",
   "language": "python",
   "name": "python3"
  },
  "language_info": {
   "codemirror_mode": {
    "name": "ipython",
    "version": 3
   },
   "file_extension": ".py",
   "mimetype": "text/x-python",
   "name": "python",
   "nbconvert_exporter": "python",
   "pygments_lexer": "ipython3",
   "version": "3.9.12"
  },
  "orig_nbformat": 4
 },
 "nbformat": 4,
 "nbformat_minor": 2
}
