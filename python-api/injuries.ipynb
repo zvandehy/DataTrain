{
 "cells": [
  {
   "cell_type": "code",
   "execution_count": null,
   "metadata": {},
   "outputs": [],
   "source": [
    "from bs4 import BeautifulSoup\n",
    "import requests"
   ]
  },
  {
   "cell_type": "code",
   "execution_count": null,
   "metadata": {},
   "outputs": [],
   "source": [
    "# URL = \"https://www.prosportstransactions.com/basketball/Search/SearchResults.php?Player=&Team=Nuggets&BeginDate=2022-01-01&EndDate=2022-04-06&PlayerMovementChkBx=yes&ILChkBx=yes&Submit=Search\"\n",
    "# page = requests.get(URL)"
   ]
  },
  {
   "cell_type": "code",
   "execution_count": null,
   "metadata": {},
   "outputs": [],
   "source": [
    "# soup = BeautifulSoup(page.content, \"html.parser\")\n",
    "# table = soup.find(\"table\", class_=\"datatable\")\n",
    "# headers = [header.text[1:] for header in table.find('tr',class_=\"DraftTableLabel\").findAll('td')]\n",
    "# results = [{headers[i]: cell.text for i, cell in enumerate(row.findAll('td'))}\n",
    "#            for row in table.findAll('tr')[1:]]\n",
    "# print(headers)\n",
    "# print(results)"
   ]
  },
  {
   "cell_type": "code",
   "execution_count": null,
   "metadata": {},
   "outputs": [],
   "source": [
    "# for i, item in enumerate(results):\n",
    "#     print(item['Acquired'][3:])"
   ]
  },
  {
   "cell_type": "code",
   "execution_count": null,
   "metadata": {},
   "outputs": [],
   "source": [
    "from nba_api.stats.static import teams\n",
    "from nba_api.stats.endpoints import commonteamroster\n",
    "from nba_api.stats.endpoints import playergamelogs\n",
    "import time"
   ]
  },
  {
   "cell_type": "code",
   "execution_count": null,
   "metadata": {},
   "outputs": [],
   "source": [
    "sleeptime = .7\n",
    "headers = ['TeamID', 'SEASON', 'LeagueID', 'PLAYER', 'NICKNAME', 'PLAYER_SLUG', 'NUM', 'POSITION', 'HEIGHT', 'WEIGHT', 'BIRTH_DATE', 'AGE', 'EXP', 'SCHOOL', 'PLAYER_ID']\n",
    "rosters = {}\n",
    "player_logs= {}\n",
    "for team in teams.get_teams():\n",
    "    regular_season = playergamelogs.PlayerGameLogs(season_nullable=\"2021-22\", team_id_nullable=team[\"id\"], season_type_nullable=\"Regular Season\")\n",
    "    time.sleep(sleeptime)\n",
    "    playins = playergamelogs.PlayerGameLogs(season_nullable=\"2021-22\", team_id_nullable=team[\"id\"], season_type_nullable=\"PlayIn\")\n",
    "    time.sleep(sleeptime)\n",
    "    playoffs = playergamelogs.PlayerGameLogs(season_nullable=\"2021-22\", team_id_nullable=team[\"id\"], season_type_nullable=\"Playoffs\")\n",
    "    time.sleep(sleeptime)\n",
    "    team_player_logs = regular_season.get_dict()[\"resultSets\"][0]['rowSet'] + playins.get_dict()[\"resultSets\"][0]['rowSet'] + playoffs.get_dict()[\"resultSets\"][0]['rowSet']\n",
    "    print(team[\"id\"], len(team_player_logs))\n",
    "    player_logs[team['city'] + \" \" + team['nickname']] = [(player[2], player[8][:10], player[6]) for player in team_player_logs]\n",
    "    roster = [(player[3],player[14]) for player in commonteamroster.CommonTeamRoster(team[\"id\"], season=\"2021-22\").common_team_roster.get_dict()['data']]\n",
    "    time.sleep(sleeptime)\n",
    "    rosters[team['city'] + \" \" + team['nickname']]= roster\n",
    "print(rosters)"
   ]
  },
  {
   "cell_type": "code",
   "execution_count": null,
   "metadata": {},
   "outputs": [],
   "source": [
    "rosters[\"LA Clippers\"] = rosters[\"Los Angeles Clippers\"]\n",
    "player_logs[\"LA Clippers\"] = player_logs[\"Los Angeles Clippers\"]"
   ]
  },
  {
   "cell_type": "code",
   "execution_count": null,
   "metadata": {},
   "outputs": [],
   "source": [
    "URL_ESPN = \"https://www.espn.com/nba/injuries\"\n",
    "espn = requests.get(URL_ESPN)"
   ]
  },
  {
   "cell_type": "code",
   "execution_count": null,
   "metadata": {},
   "outputs": [],
   "source": [
    "soup = BeautifulSoup(espn.content, \"html.parser\")\n",
    "tables = [table for table in soup.find_all(\"div\", {\"class\": \"Table__league-injuries\"})]\n",
    "teams_injured = [{\"team\":table.find(\"span\", {\"class\":\"injuries__teamName\"}).text} for table in tables]\n",
    "\n",
    "for i, table  in enumerate(tables):\n",
    "    team = teams_injured[i]\n",
    "    teams_injured[i][\"injury_list\"] = [{\"name\":item.find(\"a\").text, \"date\":item.find(\"td\",{\"class\":\"col-date\"}).text, \"status\":item.find(\"td\",{\"class\":\"col-stat\"}).text} for item in table.find_all(\"tr\", {\"data-idx\":True})]"
   ]
  },
  {
   "cell_type": "code",
   "execution_count": null,
   "metadata": {},
   "outputs": [],
   "source": [
    "from datetime import datetime\n",
    "return_date = datetime.now().strftime(\"%Y-%m-%d\")\n",
    "print(return_date)"
   ]
  },
  {
   "cell_type": "code",
   "execution_count": null,
   "metadata": {},
   "outputs": [],
   "source": [
    "url = \"\"\n",
    "with open(\"../app.env\") as file:\n",
    "    db_source = file.read()\n",
    "    url = db_source.split(\"DB_SOURCE=\\\"\")[1][:-1]"
   ]
  },
  {
   "cell_type": "code",
   "execution_count": null,
   "metadata": {},
   "outputs": [],
   "source": [
    "from pymongo import MongoClient\n",
    "from nba_api.stats.static import players\n",
    "from nba_api.stats.endpoints import commonplayerinfo\n",
    "import time\n",
    "client = MongoClient(url)\n",
    "db = client.nba"
   ]
  },
  {
   "cell_type": "code",
   "execution_count": null,
   "metadata": {},
   "outputs": [],
   "source": [
    "\n",
    "# for each team on the injury report\n",
    "for team in teams_injured:\n",
    "    # get the team's game logs\n",
    "    team_logs = [log for log in player_logs[team[\"team\"]] if log[2] == team[\"team\"]]\n",
    "    # and sort them by recent date\n",
    "    team_logs.sort(key=lambda date: datetime.strptime(date[1], \"%Y-%m-%d\"), reverse=True)\n",
    "    # get the last game the team played\n",
    "    last_team_game_played = team_logs[0][1]\n",
    "    print(team[\"team\"], last_team_game_played)\n",
    "    # for each player currently on the team's roster\n",
    "    for player in rosters[team[\"team\"]]:\n",
    "        # get the list of games the player played for this team\n",
    "        played_with_team = [log[1] for log in team_logs if log[0] == player[0]]\n",
    "        # and sort it by recent date\n",
    "        played_with_team.sort(key=lambda date: datetime.strptime(date, \"%Y-%m-%d\"), reverse=True)\n",
    "        # if the player has played a game for this team\n",
    "        if len(played_with_team) > 0:\n",
    "            # then get the last game (date) played by the player\n",
    "            last_game_played_with_team = played_with_team[0]\n",
    "        else:\n",
    "            last_game_played_with_team = \"\"\n",
    "\n",
    "        # if the player name is found on the injury report\n",
    "        if player[0] in [player[\"name\"] for player in team[\"injury_list\"]]:\n",
    "            # if they played in the last game\n",
    "            if last_game_played_with_team == last_team_game_played:\n",
    "                # then the injury must be new\n",
    "                # push new injury event object with start date as today (note: handle OUT vs day-to-day)\n",
    "                p=[p for p in team[\"injury_list\"] if player[0] == p[\"name\"]][0]\n",
    "                print(player, \" Start Injury \", \"Today\", p)\n",
    "                injury_data = {\n",
    "                    \"start_date\":last_game_played_with_team,\n",
    "                    \"return_date\":\"\",\n",
    "                    \"playername\":player[0],\n",
    "                    \"playerID\":player[1],\n",
    "                    \"status\":p[\"status\"],\n",
    "                    \"lastModifiedDate\":return_date\n",
    "                }\n",
    "                print(injury_data)\n",
    "                db.injuries.insert_one(injury_data)\n",
    "            else:\n",
    "                #continued injury, (update games missed on object?) -- do nothing for now\n",
    "                p=[p for p in team[\"injury_list\"] if player[0] == p[\"name\"]][0]\n",
    "                print(player, \" Injured since \", last_game_played_with_team)\n",
    "                db.injuries.update_one({\"playerID\":player[1],\"return_date\":\"\"}, {\"$set\":{\"status\":p[\"status\"], \"start_date\":last_game_played_with_team, \"lastModifiedDate\":return_date}}, upsert=True)\n",
    "        # healthy\n",
    "        else:\n",
    "            # determine if a player has returned from injury\n",
    "            if last_game_played_with_team != last_team_game_played:\n",
    "                #update injury event object with end date\n",
    "                print(player, \" Returning from injury since\", last_game_played_with_team)\n",
    "                # TODO: Right now only updating the return date of injured players that have previously been added to the database through the injury report scraper\n",
    "                # TODO: Need to get a history of injuries from another source\n",
    "                db.injuries.update_one({\"playerID\":player[1],\"return_date\":\"\"}, {\"$set\":{\"return_date\":return_date, \"start_date\":last_game_played_with_team, \"lastModifiedDate\":return_date}}, upsert=False)\n",
    "            \n",
    "    print(\"-----\")"
   ]
  },
  {
   "cell_type": "code",
   "execution_count": null,
   "metadata": {},
   "outputs": [],
   "source": []
  }
 ],
 "metadata": {
  "interpreter": {
   "hash": "b0fa6594d8f4cbf19f97940f81e996739fb7646882a419484c72d19e05852a7e"
  },
  "kernelspec": {
   "display_name": "Python 3.9.9 64-bit",
   "language": "python",
   "name": "python3"
  },
  "language_info": {
   "codemirror_mode": {
    "name": "ipython",
    "version": 3
   },
   "file_extension": ".py",
   "mimetype": "text/x-python",
   "name": "python",
   "nbconvert_exporter": "python",
   "pygments_lexer": "ipython3",
   "version": "3.9.12"
  },
  "orig_nbformat": 4
 },
 "nbformat": 4,
 "nbformat_minor": 2
}
