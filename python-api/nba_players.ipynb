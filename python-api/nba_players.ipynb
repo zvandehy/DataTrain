{
  "cells": [
    {
      "cell_type": "code",
      "execution_count": null,
      "metadata": {},
      "outputs": [],
      "source": [
        "# SLOW RETRIEVAL OF PLAYERS FROM API\n",
        "\n",
        "# # add players to db\n",
        "# #TODO: query all players from db at once instead of one at a time\n",
        "# from nba_api.stats.endpoints import commonallplayers\n",
        "# from nba_api.stats.endpoints import commonplayerinfo\n",
        "# from nba_api.stats.endpoints import playercareerstats\n",
        "# from nba_api.stats.library.parameters import PerModeSimple\n",
        "\n",
        "# all_players = commonallplayers.CommonAllPlayers()\n",
        "# data = all_players.get_normalized_dict()\n",
        "# count = 0\n",
        "# for player in data['CommonAllPlayers']:\n",
        "#     if player[\"ROSTERSTATUS\"] == 1:\n",
        "#         names = player[\"DISPLAY_FIRST_LAST\"].split(\" \", 1)\n",
        "#         player_data = {\n",
        "#             \"playerID\":player[\"PERSON_ID\"],\n",
        "#             \"name\":player[\"DISPLAY_FIRST_LAST\"],\n",
        "#             \"first_name\":names[0],\n",
        "#             \"last_name\":names[1],\n",
        "#             \"teamABR\": player[\"TEAM_ABBREVIATION\"],\n",
        "#             \"league\":\"NBA\",\n",
        "#             \"seasons\":[],\n",
        "#         }\n",
        "#         player_career = playercareerstats.PlayerCareerStats(player[\"PERSON_ID\"], per_mode36=PerModeSimple.per_game)\n",
        "#         regular_seasons = player_career.get_normalized_dict()[\"SeasonTotalsRegularSeason\"]\n",
        "#         time.sleep(2.5)\n",
        "#         print(regular_seasons)\n",
        "#         for season in regular_seasons:\n",
        "#             # if season[\"MIN\"] > 8.0:\n",
        "#             player_data[\"seasons\"].append(season[\"SEASON_ID\"])\n",
        "#             if season[\"SEASON_ID\"] == \"2022-23\":\n",
        "#                 print(\"2022-23\")\n",
        "#         if len(player_data[\"seasons\"]) > 0:\n",
        "#             info = commonplayerinfo.CommonPlayerInfo(player[\"PERSON_ID\"]).get_normalized_dict()[\"CommonPlayerInfo\"][0]\n",
        "#             position=info[\"POSITION\"]\n",
        "#             # convert Center-Forward to C-F\n",
        "#             foundDash=position.find(\"-\")\n",
        "#             if foundDash != -1:\n",
        "#                 position=position[0]+\"-\"+position[position.index(\"-\")+1]\n",
        "#             else:\n",
        "#                 position=position[0]\n",
        "#             player_data[\"position\"]=position\n",
        "#             player_data[\"height\"]=info[\"HEIGHT\"]\n",
        "#             player_data[\"weight\"]=int(info[\"WEIGHT\"])\n",
        "#             player_data[\"lastModifiedDate\"] = lastModifiedDate\n",
        "#             res = db.players.update_one({\"playerID\": season[\"PLAYER_ID\"]}, {\"$set\":player_data}, True)\n",
        "#             count+=1\n",
        "#             print(str(count) + \": \" + player[\"DISPLAY_FIRST_LAST\"] + \" \" + position)"
      ]
    },
    {
      "cell_type": "code",
      "execution_count": 4,
      "metadata": {},
      "outputs": [],
      "source": [
        "# last retrieved OCT 19, 2:38AM EST\n",
        "import json\n",
        "playerindex = {}\n",
        "with open(\"./playerindex_2022_23.json\", \"r\") as f:\n",
        "    playerindex = json.load(f)"
      ]
    },
    {
      "cell_type": "code",
      "execution_count": 5,
      "metadata": {},
      "outputs": [
        {
          "name": "stdout",
          "output_type": "stream",
          "text": [
            "0 PERSON_ID\n",
            "1 PLAYER_LAST_NAME\n",
            "2 PLAYER_FIRST_NAME\n",
            "3 PLAYER_SLUG\n",
            "4 TEAM_ID\n",
            "5 TEAM_SLUG\n",
            "6 IS_DEFUNCT\n",
            "7 TEAM_CITY\n",
            "8 TEAM_NAME\n",
            "9 TEAM_ABBREVIATION\n",
            "10 JERSEY_NUMBER\n",
            "11 POSITION\n",
            "12 HEIGHT\n",
            "13 WEIGHT\n",
            "14 COLLEGE\n",
            "15 COUNTRY\n",
            "16 DRAFT_YEAR\n",
            "17 DRAFT_ROUND\n",
            "18 DRAFT_NUMBER\n",
            "19 ROSTER_STATUS\n",
            "20 FROM_YEAR\n",
            "21 TO_YEAR\n",
            "22 PTS\n",
            "23 REB\n",
            "24 AST\n",
            "25 STATS_TIMEFRAME\n"
          ]
        }
      ],
      "source": [
        "headers=playerindex[\"0\"][\"headers\"]\n",
        "for i, h in enumerate(headers):\n",
        "    print(i, h)\n"
      ]
    },
    {
      "cell_type": "code",
      "execution_count": 15,
      "metadata": {},
      "outputs": [],
      "source": [
        "import mysql.connector\n",
        "\n",
        "db = mysql.connector.connect(\n",
        "    host=\"us-east.connect.psdb.cloud\",\n",
        "    username=\"\",\n",
        "    password=\"\",\n",
        "    database=\"nba\",\n",
        "  )"
      ]
    },
    {
      "cell_type": "code",
      "execution_count": 24,
      "metadata": {},
      "outputs": [
        {
          "name": "stdout",
          "output_type": "stream",
          "text": [
            "500\n"
          ]
        }
      ],
      "source": [
        "import datetime\n",
        "lastModifiedDate = datetime.datetime.now()\n",
        "players = []\n",
        "for player in playerindex[\"0\"][\"rowSet\"]:\n",
        "    if int(player[21]) < 2022:\n",
        "        continue\n",
        "    # start = int(player[20])\n",
        "    # end = int(player[21])\n",
        "    # years = [str(x) for x in range(start, end+1)]\n",
        "    # # convert years 2020,2021,2022 to 2020-21, 2021-22, 2022-23\n",
        "    # seasons = [str(years[i]) + \"-\" + str(int(str(years[i])[2:])+1) for i in range(len(years))]\n",
        "    # convert height to inches\n",
        "    ftInches = player[12].split(\"-\")\n",
        "    height = int(ftInches[0])*12 + int(ftInches[1])\n",
        "    player_data = {\n",
        "        \"playerID\":player[0],\n",
        "        \"name\":player[2] + \" \" + player[1],\n",
        "        \"firstName\":player[2],\n",
        "        \"lastName\":player[1],\n",
        "        \"teamABR\": player[9],\n",
        "        \"teamID\": player[4],\n",
        "        \"position\":player[11],\n",
        "        \"height\":player[12],\n",
        "        \"heightInches\":height,\n",
        "        \"weight\":int(player[13]),\n",
        "        \"league\":\"NBA\",\n",
        "    }\n",
        "    players.append(player_data)\n",
        "print(len(players))"
      ]
    },
    {
      "cell_type": "code",
      "execution_count": 20,
      "metadata": {},
      "outputs": [],
      "source": [
        "cursor = db.cursor()\n",
        "query = \"INSERT INTO players (playerID, name, firstName, lastName, teamABR, teamID, position, height, heightInches, weight, league) VALUES (%s, %s, %s, %s, %s, %s, %s, %s, %s, %s, %s)\"\n",
        "batch = []\n",
        "for player in players:\n",
        "    batch.append((player[\"playerID\"], player[\"name\"], player[\"firstName\"], player[\"lastName\"], player[\"teamABR\"], player[\"teamID\"], player[\"position\"], player[\"height\"], player[\"heightInches\"], player[\"weight\"], player[\"league\"]))\n",
        "    if len(batch) >= 20:\n",
        "        cursor.executemany(query, batch)\n",
        "        db.commit()\n",
        "        batch = []"
      ]
    }
  ],
  "metadata": {
    "kernelspec": {
      "display_name": "Python 3.9.12 64-bit",
      "language": "python",
      "name": "python3"
    },
    "language_info": {
      "codemirror_mode": {
        "name": "ipython",
        "version": 3
      },
      "file_extension": ".py",
      "mimetype": "text/x-python",
      "name": "python",
      "nbconvert_exporter": "python",
      "pygments_lexer": "ipython3",
      "version": "3.9.12"
    },
    "orig_nbformat": 4,
    "vscode": {
      "interpreter": {
        "hash": "b0fa6594d8f4cbf19f97940f81e996739fb7646882a419484c72d19e05852a7e"
      }
    }
  },
  "nbformat": 4,
  "nbformat_minor": 2
}
