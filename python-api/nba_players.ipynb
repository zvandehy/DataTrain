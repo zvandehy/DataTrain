{
 "cells": [
  {
   "cell_type": "code",
   "execution_count": null,
   "metadata": {},
   "outputs": [],
   "source": [
    "# SLOW RETRIEVAL OF PLAYERS FROM API\n",
    "\n",
    "# # add players to db\n",
    "# #TODO: query all players from db at once instead of one at a time\n",
    "# from nba_api.stats.endpoints import commonallplayers\n",
    "# from nba_api.stats.endpoints import commonplayerinfo\n",
    "# from nba_api.stats.endpoints import playercareerstats\n",
    "# from nba_api.stats.library.parameters import PerModeSimple\n",
    "\n",
    "# all_players = commonallplayers.CommonAllPlayers()\n",
    "# data = all_players.get_normalized_dict()\n",
    "# count = 0\n",
    "# for player in data['CommonAllPlayers']:\n",
    "#     if player[\"ROSTERSTATUS\"] == 1:\n",
    "#         names = player[\"DISPLAY_FIRST_LAST\"].split(\" \", 1)\n",
    "#         player_data = {\n",
    "#             \"playerID\":player[\"PERSON_ID\"],\n",
    "#             \"name\":player[\"DISPLAY_FIRST_LAST\"],\n",
    "#             \"first_name\":names[0],\n",
    "#             \"last_name\":names[1],\n",
    "#             \"teamABR\": player[\"TEAM_ABBREVIATION\"],\n",
    "#             \"league\":\"NBA\",\n",
    "#             \"seasons\":[],\n",
    "#         }\n",
    "#         player_career = playercareerstats.PlayerCareerStats(player[\"PERSON_ID\"], per_mode36=PerModeSimple.per_game)\n",
    "#         regular_seasons = player_career.get_normalized_dict()[\"SeasonTotalsRegularSeason\"]\n",
    "#         time.sleep(2.5)\n",
    "#         print(regular_seasons)\n",
    "#         for season in regular_seasons:\n",
    "#             # if season[\"MIN\"] > 8.0:\n",
    "#             player_data[\"seasons\"].append(season[\"SEASON_ID\"])\n",
    "#             if season[\"SEASON_ID\"] == \"2022-23\":\n",
    "#                 print(\"2022-23\")\n",
    "#         if len(player_data[\"seasons\"]) > 0:\n",
    "#             info = commonplayerinfo.CommonPlayerInfo(player[\"PERSON_ID\"]).get_normalized_dict()[\"CommonPlayerInfo\"][0]\n",
    "#             position=info[\"POSITION\"]\n",
    "#             # convert Center-Forward to C-F\n",
    "#             foundDash=position.find(\"-\")\n",
    "#             if foundDash != -1:\n",
    "#                 position=position[0]+\"-\"+position[position.index(\"-\")+1]\n",
    "#             else:\n",
    "#                 position=position[0]\n",
    "#             player_data[\"position\"]=position\n",
    "#             player_data[\"height\"]=info[\"HEIGHT\"]\n",
    "#             player_data[\"weight\"]=int(info[\"WEIGHT\"])\n",
    "#             player_data[\"lastModifiedDate\"] = lastModifiedDate\n",
    "#             res = db.players.update_one({\"playerID\": season[\"PLAYER_ID\"]}, {\"$set\":player_data}, True)\n",
    "#             count+=1\n",
    "#             print(str(count) + \": \" + player[\"DISPLAY_FIRST_LAST\"] + \" \" + position)"
   ]
  },
  {
   "cell_type": "code",
   "execution_count": null,
   "metadata": {},
   "outputs": [],
   "source": [
    "# last retrieved OCT 19, 2:38AM EST\n",
    "import json\n",
    "playerindex = {}\n",
    "with open(\"./playerindex_2022_23.json\", \"r\") as f:\n",
    "    playerindex = json.load(f)"
   ]
  },
  {
   "cell_type": "code",
   "execution_count": null,
   "metadata": {},
   "outputs": [],
   "source": [
    "headers=playerindex[\"0\"][\"headers\"]\n",
    "for i, h in enumerate(headers):\n",
    "    print(i, h)"
   ]
  },
  {
   "cell_type": "code",
   "execution_count": null,
   "metadata": {},
   "outputs": [],
   "source": [
    "import datetime\n",
    "lastModifiedDate = datetime.datetime.now()\n",
    "players = []\n",
    "for player in playerindex[\"0\"][\"rowSet\"]:\n",
    "    start = int(player[20])\n",
    "    end = int(player[21])\n",
    "    years = [str(x) for x in range(start, end+1)]\n",
    "    # convert years 2020,2021,2022 to 2020-21, 2021-22, 2022-23\n",
    "    seasons = [str(years[i]) + \"-\" + str(int(str(years[i])[2:])+1) for i in range(len(years))]\n",
    "    player_data = {\n",
    "        \"playerID\":player[0],\n",
    "        \"name\":player[2] + \" \" + player[1],\n",
    "        \"first_name\":player[2],\n",
    "        \"last_name\":player[1],\n",
    "        \"teamABR\": player[9],\n",
    "        \"position\":player[11],\n",
    "        \"height\":player[12],\n",
    "        \"weight\":int(player[13]),\n",
    "        \"league\":\"NBA\",\n",
    "        \"seasons\":seasons,\n",
    "        \"lastModifiedDate\": lastModifiedDate,\n",
    "    }\n",
    "    players.append(player_data)"
   ]
  },
  {
   "cell_type": "code",
   "execution_count": null,
   "metadata": {},
   "outputs": [],
   "source": [
    "url = \"\"\n",
    "with open(\"../app.env\") as file:\n",
    "    db_source = file.read()\n",
    "    url = db_source.split(\"DB_SOURCE=\\\"\")[1][:-1]\n",
    "    print(url)"
   ]
  },
  {
   "cell_type": "code",
   "execution_count": null,
   "metadata": {},
   "outputs": [],
   "source": [
    "from pymongo import MongoClient\n",
    "client = MongoClient(url)\n",
    "db = client.nba"
   ]
  },
  {
   "cell_type": "code",
   "execution_count": null,
   "metadata": {},
   "outputs": [],
   "source": [
    "# update players in db\n",
    "for player in players:\n",
    "    db.players.update_one({\"playerID\": player[\"playerID\"]}, {\"$set\":player}, True)"
   ]
  }
 ],
 "metadata": {
  "kernelspec": {
   "display_name": "Python 3.9.12 64-bit",
   "language": "python",
   "name": "python3"
  },
  "language_info": {
   "codemirror_mode": {
    "name": "ipython",
    "version": 3
   },
   "file_extension": ".py",
   "mimetype": "text/x-python",
   "name": "python",
   "nbconvert_exporter": "python",
   "pygments_lexer": "ipython3",
   "version": "3.9.12"
  },
  "orig_nbformat": 4,
  "vscode": {
   "interpreter": {
    "hash": "b0fa6594d8f4cbf19f97940f81e996739fb7646882a419484c72d19e05852a7e"
   }
  }
 },
 "nbformat": 4,
 "nbformat_minor": 2
}
