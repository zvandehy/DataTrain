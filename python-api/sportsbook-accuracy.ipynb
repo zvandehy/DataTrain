{
 "cells": [
  {
   "cell_type": "code",
   "execution_count": null,
   "metadata": {},
   "outputs": [],
   "source": [
    "url = \"\"\n",
    "with open(\"../app.env\") as file:\n",
    "    db_source = file.read()\n",
    "    url = db_source.split(\"DB_SOURCE=\\\"\")[1][:-1]"
   ]
  },
  {
   "cell_type": "code",
   "execution_count": null,
   "metadata": {},
   "outputs": [],
   "source": [
    "from pymongo import MongoClient\n",
    "client = MongoClient(url)\n",
    "nba_db = client.wnba"
   ]
  },
  {
   "cell_type": "code",
   "execution_count": null,
   "metadata": {},
   "outputs": [],
   "source": [
    "sportsbooks=[\"PrizePicks\", \"UnderdogFantasy\"]"
   ]
  },
  {
   "cell_type": "code",
   "execution_count": null,
   "metadata": {},
   "outputs": [],
   "source": [
    "def GetStat(prop, game):\n",
    "    if prop == \"Pts+Rebs+Asts\":\n",
    "        return game[\"points\"]+game[\"rebounds\"]+game[\"assists\"]\n",
    "    elif prop == \"Pts+Rebs\":\n",
    "        return game[\"points\"]+game[\"rebounds\"]\n",
    "    elif prop == \"Pts+Asts:\n",
    "        return game[\"points\"]+game[\"assists\"]\n",
    "        \n",
    "    else:\n",
    "        return game[\"prop\"]"
   ]
  },
  {
   "cell_type": "code",
   "execution_count": null,
   "metadata": {},
   "outputs": [],
   "source": [
    "# for each sportsbook\n",
    "for sportsbook in sportsbooks:\n",
    "    projections = nba_db.get_collection(\"projections\").find({\"propositions.sportsbook\":\"PrizePicks\"})\n",
    "    for projection in projections:\n",
    "        game = nba_db.get_collection(\"games\").find_one({\"playerID\":projection[\"playerID\"], \"date\":projection[\"date\"]})\n",
    "        "
   ]
  }
 ],
 "metadata": {
  "kernelspec": {
   "display_name": "Python 3.9.12 64-bit",
   "language": "python",
   "name": "python3"
  },
  "language_info": {
   "name": "python",
   "version": "3.9.12"
  },
  "orig_nbformat": 4,
  "vscode": {
   "interpreter": {
    "hash": "b0fa6594d8f4cbf19f97940f81e996739fb7646882a419484c72d19e05852a7e"
   }
  }
 },
 "nbformat": 4,
 "nbformat_minor": 2
}
